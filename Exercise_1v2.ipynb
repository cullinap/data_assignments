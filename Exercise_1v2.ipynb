{
 "cells": [
  {
   "cell_type": "code",
   "execution_count": 1,
   "metadata": {},
   "outputs": [],
   "source": [
    "import random\n",
    "import numpy as np\n",
    "import matplotlib.pyplot as plt\n",
    "from __future__ import print_function\n",
    "from scipy import stats\n",
    "%matplotlib inline"
   ]
  },
  {
   "cell_type": "code",
   "execution_count": 2,
   "metadata": {},
   "outputs": [
    {
     "name": "stdout",
     "output_type": "stream",
     "text": [
      "[1.0614182  1.27457467 1.39974304 1.25433865 1.22367255 1.18174134\n",
      " 1.5369497  1.48519452 1.37321566 0.908301   1.247859   1.45623121\n",
      " 1.27931893 1.10291868 1.37040696 1.33501113 1.37566177 1.3173362\n",
      " 1.46169457 1.38197057 1.05977032 1.36164196 0.99810109 1.24587931\n",
      " 1.22736281 0.98313545 1.30318567 1.14277867 1.61217932 1.28844932]\n"
     ]
    },
    {
     "data": {
      "image/png": "[encoded data removed]",
      "text/plain": [
       "<matplotlib.figure.Figure at 0x10c8a7a20>"
      ]
     },
     "metadata": {},
     "output_type": "display_data"
    },
    {
     "name": "stdout",
     "output_type": "stream",
     "text": [
      "coefficients: m: 0.5129693875499236 b: 0.9806431832493352\n",
      "r-squared: 0.7023345106724491\n"
     ]
    }
   ],
   "source": [
    "N = 30\n",
    "beta_0 = 1\n",
    "beta_1 = 0.5\n",
    "#np.random.seed(18)\n",
    "X = np.random.rand(N)\n",
    "#X_2 = np.random.rand(N)\n",
    "mu = np.random.normal(0, 0.1, N)\n",
    "Y = beta_0 + (beta_1 * X) + mu\n",
    "\n",
    "print(Y)\n",
    "\n",
    "slope, intercept, r_value, p_value, std_err = stats.linregress(X,Y)\n",
    "\n",
    "plt.plot(X, Y, 'o', label='original data')\n",
    "plt.plot(X, intercept + slope*X, 'r', label='fitted line')\n",
    "plt.legend\n",
    "plt.show()\n",
    "\n",
    "print('coefficients: ' + 'm: ' + str(slope) + ' ' + 'b: ' + str(intercept))\n",
    "print(\"r-squared:\", r_value**2)"
   ]
  },
  {
   "cell_type": "code",
   "execution_count": 3,
   "metadata": {},
   "outputs": [
    {
     "name": "stdout",
     "output_type": "stream",
     "text": [
      "0.502926491544546\n",
      "0.058266984677320104\n",
      "0.9986071613966533\n",
      "0.03701990239997631\n"
     ]
    }
   ],
   "source": [
    "def model(N, beta_0, beta_1):\n",
    "    X = np.random.rand(N)\n",
    "    mu = np.random.normal(0, 0.1, N)\n",
    "    Y = beta_0 + (beta_1 * X) + mu\n",
    "    slope, intercept, r_value, p_value, std_err = stats.linregress(X,Y)\n",
    "    return slope, intercept\n",
    "\n",
    "\n",
    "coef = []  \n",
    "for i in range(100):\n",
    "    coef.append(model(30, 1, 0.5))\n",
    "    \n",
    "coef = np.array(coef)\n",
    "m_ave = np.mean(coef[:,0])\n",
    "m_std = np.std(coef[:,0])\n",
    "b_ave = np.mean(coef[:,1])\n",
    "b_std = np.std(coef[:,1])\n",
    "\n",
    "\n",
    "print(m_ave)\n",
    "print(m_std)\n",
    "print(b_ave)\n",
    "print(b_std)\n",
    "    "
   ]
  },
  {
   "cell_type": "code",
   "execution_count": 4,
   "metadata": {},
   "outputs": [
    {
     "data": {
      "text/html": [
       "<div>\n",
       "<style scoped>\n",
       "    .dataframe tbody tr th:only-of-type {\n",
       "        vertical-align: middle;\n",
       "    }\n",
       "\n",
       "    .dataframe tbody tr th {\n",
       "        vertical-align: top;\n",
       "    }\n",
       "\n",
       "    .dataframe thead th {\n",
       "        text-align: right;\n",
       "    }\n",
       "</style>\n",
       "<table border=\"1\" class=\"dataframe\">\n",
       "  <thead>\n",
       "    <tr style=\"text-align: right;\">\n",
       "      <th></th>\n",
       "      <th>mpg</th>\n",
       "      <th>cylinders</th>\n",
       "      <th>displacement</th>\n",
       "      <th>horsepower</th>\n",
       "      <th>weight</th>\n",
       "      <th>acceleration</th>\n",
       "      <th>year</th>\n",
       "      <th>origin</th>\n",
       "      <th>name</th>\n",
       "    </tr>\n",
       "  </thead>\n",
       "  <tbody>\n",
       "    <tr>\n",
       "      <th>0</th>\n",
       "      <td>18.0</td>\n",
       "      <td>8</td>\n",
       "      <td>307.0</td>\n",
       "      <td>130</td>\n",
       "      <td>3504</td>\n",
       "      <td>12.0</td>\n",
       "      <td>70</td>\n",
       "      <td>1</td>\n",
       "      <td>chevrolet chevelle malibu</td>\n",
       "    </tr>\n",
       "    <tr>\n",
       "      <th>1</th>\n",
       "      <td>15.0</td>\n",
       "      <td>8</td>\n",
       "      <td>350.0</td>\n",
       "      <td>165</td>\n",
       "      <td>3693</td>\n",
       "      <td>11.5</td>\n",
       "      <td>70</td>\n",
       "      <td>1</td>\n",
       "      <td>buick skylark 320</td>\n",
       "    </tr>\n",
       "    <tr>\n",
       "      <th>2</th>\n",
       "      <td>18.0</td>\n",
       "      <td>8</td>\n",
       "      <td>318.0</td>\n",
       "      <td>150</td>\n",
       "      <td>3436</td>\n",
       "      <td>11.0</td>\n",
       "      <td>70</td>\n",
       "      <td>1</td>\n",
       "      <td>plymouth satellite</td>\n",
       "    </tr>\n",
       "    <tr>\n",
       "      <th>3</th>\n",
       "      <td>16.0</td>\n",
       "      <td>8</td>\n",
       "      <td>304.0</td>\n",
       "      <td>150</td>\n",
       "      <td>3433</td>\n",
       "      <td>12.0</td>\n",
       "      <td>70</td>\n",
       "      <td>1</td>\n",
       "      <td>amc rebel sst</td>\n",
       "    </tr>\n",
       "    <tr>\n",
       "      <th>4</th>\n",
       "      <td>17.0</td>\n",
       "      <td>8</td>\n",
       "      <td>302.0</td>\n",
       "      <td>140</td>\n",
       "      <td>3449</td>\n",
       "      <td>10.5</td>\n",
       "      <td>70</td>\n",
       "      <td>1</td>\n",
       "      <td>ford torino</td>\n",
       "    </tr>\n",
       "  </tbody>\n",
       "</table>\n",
       "</div>"
      ],
      "text/plain": [
       "    mpg  cylinders  displacement  horsepower  weight  acceleration  year  \\\n",
       "0  18.0          8         307.0         130    3504          12.0    70   \n",
       "1  15.0          8         350.0         165    3693          11.5    70   \n",
       "2  18.0          8         318.0         150    3436          11.0    70   \n",
       "3  16.0          8         304.0         150    3433          12.0    70   \n",
       "4  17.0          8         302.0         140    3449          10.5    70   \n",
       "\n",
       "   origin                       name  \n",
       "0       1  chevrolet chevelle malibu  \n",
       "1       1          buick skylark 320  \n",
       "2       1         plymouth satellite  \n",
       "3       1              amc rebel sst  \n",
       "4       1                ford torino  "
      ]
     },
     "execution_count": 4,
     "metadata": {},
     "output_type": "execute_result"
    }
   ],
   "source": [
    "import pandas as pd\n",
    "\n",
    "auto_data = pd.read_csv('/Users/patrickcullinane/Desktop/auto.csv')\n",
    "\n",
    "auto_data.head()"
   ]
  },
  {
   "cell_type": "code",
   "execution_count": 5,
   "metadata": {},
   "outputs": [
    {
     "data": {
      "image/png": "[encoded data removed]",
      "text/plain": [
       "<matplotlib.figure.Figure at 0x10c93b9b0>"
      ]
     },
     "metadata": {},
     "output_type": "display_data"
    },
    {
     "name": "stdout",
     "output_type": "stream",
     "text": [
      "coefficients: m: -0.15784473335365362 b: 39.93586102117047\n",
      "r-squared: 0.6059482578894346\n"
     ]
    }
   ],
   "source": [
    "#used scipy stats for this\n",
    "\n",
    "X_hp = auto_data['horsepower']\n",
    "Y_mpg = auto_data['mpg']\n",
    "\n",
    "slope, intercept, r_value, p_value, std_err = stats.linregress(X_hp, Y_mpg)\n",
    "\n",
    "plt.plot(X_hp, Y_mpg, 'o', label='original data')\n",
    "plt.plot(X_hp, intercept + slope*X_hp, 'r', label='fitted line')\n",
    "plt.legend\n",
    "plt.show()\n",
    "\n",
    "print('coefficients: ' + 'm: ' + str(slope) + ' ' + 'b: ' + str(intercept))\n",
    "print(\"r-squared:\", r_value**2)"
   ]
  },
  {
   "cell_type": "markdown",
   "metadata": {},
   "source": [
    "*I deleted the horsepower data with a question mark\n",
    "\n",
    "(a) The coefficients just show that the y-intercept is at approx. y=39 & that the slope is gradually negative. Thus as horse power increases MPG generally decreases.\n",
    "\n",
    "(b) Using r^2 it appears that the data is somewhat correlated. Intuitively one can expect MPG to decrease as engine performance increases as there may be a trade off between efficiency and performance.\n",
    "\n",
    "(c) the formula of the model is: f(x) = -0.158(x) + 39.936\n",
    "\n",
    "(d) the predicted MPG with a horsepower of 98 would be: -0.158(98) + 39.936 =  = 24.452 MPG\n",
    "\n",
    "(e) see graph(s)\n",
    "\n"
   ]
  },
  {
   "cell_type": "code",
   "execution_count": 6,
   "metadata": {},
   "outputs": [],
   "source": [
    "#used sklearn for as a double check\n",
    "\n",
    "from sklearn import linear_model\n",
    "ols = linear_model.LinearRegression()"
   ]
  },
  {
   "cell_type": "code",
   "execution_count": 12,
   "metadata": {},
   "outputs": [
    {
     "name": "stdout",
     "output_type": "stream",
     "text": [
      "beta_1: -0.158\n",
      "beta_0: 39.936\n",
      "r^2: 0.606\n"
     ]
    }
   ],
   "source": [
    "ols.fit(X_hp.reshape(-1,1), Y_mpg)\n",
    "print(\"beta_1: %.3f\" %ols.coef_)\n",
    "print(\"beta_0: %.3f\" %ols.intercept_)\n",
    "print('r^2: %.3f' %ols.score(X_hp.reshape(-1,1), Y_mpg))"
   ]
  },
  {
   "cell_type": "code",
   "execution_count": 13,
   "metadata": {},
   "outputs": [
    {
     "data": {
      "text/plain": [
       "<matplotlib.legend.Legend at 0x115711e80>"
      ]
     },
     "execution_count": 13,
     "metadata": {},
     "output_type": "execute_result"
    },
    {
     "data": {
      "image/png": "[encoded data removed]",
      "text/plain": [
       "<matplotlib.figure.Figure at 0x1156f2208>"
      ]
     },
     "metadata": {},
     "output_type": "display_data"
    }
   ],
   "source": [
    "beta_1 = -0.158\n",
    "beta_0 = 39.936\n",
    "\n",
    "X_hp = X_hp.reshape(-1,1)\n",
    "\n",
    "plt.plot(X_hp, beta_0 + beta_1*X_hp, c='b', lw=1.5, label='True relation')\n",
    "plt.plot(X_hp, ols.predict(X_hp), c='r', lw=1.5, label='Predicted relation')\n",
    "plt.scatter(X_hp, Y_mpg, color='green')\n",
    "plt.xlabel('Horsepower')\n",
    "plt.ylabel('Miles per Gallon')\n",
    "plt.legend(loc=2)"
   ]
  },
  {
   "cell_type": "code",
   "execution_count": 30,
   "metadata": {},
   "outputs": [
    {
     "name": "stdout",
     "output_type": "stream",
     "text": [
      "beta_0: -0.158\n",
      "beta_1: 39.936\n"
     ]
    }
   ],
   "source": [
    "X = auto_data['horsepower']\n",
    "Y = auto_data['mpg']\n",
    "\n",
    "#calculate slope\n",
    "r = stats.pearsonr(X,Y)[0]\n",
    "m = r*(np.std(Y)/np.std(X))\n",
    "\n",
    "#calculate intercept\n",
    "b = np.mean(Y) - (m * np.mean(X))\n",
    "print(\"beta_0: %.3f\" %m)\n",
    "print(\"beta_1: %.3f\" %b)\n"
   ]
  },
  {
   "cell_type": "code",
   "execution_count": 141,
   "metadata": {},
   "outputs": [
    {
     "data": {
      "text/html": [
       "<div>\n",
       "<style scoped>\n",
       "    .dataframe tbody tr th:only-of-type {\n",
       "        vertical-align: middle;\n",
       "    }\n",
       "\n",
       "    .dataframe tbody tr th {\n",
       "        vertical-align: top;\n",
       "    }\n",
       "\n",
       "    .dataframe thead th {\n",
       "        text-align: right;\n",
       "    }\n",
       "</style>\n",
       "<table border=\"1\" class=\"dataframe\">\n",
       "  <thead>\n",
       "    <tr style=\"text-align: right;\">\n",
       "      <th></th>\n",
       "      <th>time in bed</th>\n",
       "      <th>sleep quality</th>\n",
       "    </tr>\n",
       "  </thead>\n",
       "  <tbody>\n",
       "    <tr>\n",
       "      <th>0</th>\n",
       "      <td>6.79</td>\n",
       "      <td>0.80</td>\n",
       "    </tr>\n",
       "    <tr>\n",
       "      <th>1</th>\n",
       "      <td>7.70</td>\n",
       "      <td>0.89</td>\n",
       "    </tr>\n",
       "    <tr>\n",
       "      <th>2</th>\n",
       "      <td>6.75</td>\n",
       "      <td>0.73</td>\n",
       "    </tr>\n",
       "    <tr>\n",
       "      <th>3</th>\n",
       "      <td>8.04</td>\n",
       "      <td>0.75</td>\n",
       "    </tr>\n",
       "    <tr>\n",
       "      <th>4</th>\n",
       "      <td>5.29</td>\n",
       "      <td>0.46</td>\n",
       "    </tr>\n",
       "  </tbody>\n",
       "</table>\n",
       "</div>"
      ],
      "text/plain": [
       "   time in bed  sleep quality\n",
       "0         6.79           0.80\n",
       "1         7.70           0.89\n",
       "2         6.75           0.73\n",
       "3         8.04           0.75\n",
       "4         5.29           0.46"
      ]
     },
     "execution_count": 141,
     "metadata": {},
     "output_type": "execute_result"
    }
   ],
   "source": [
    "#question 4\n",
    "#importing some sleep data from an app I use to track my quality of sleep\n",
    "sleepdata = pd.read_excel('/Users/patrickcullinane/Desktop/sleeptime.xlsx')\n",
    "sleepdata.head()"
   ]
  },
  {
   "cell_type": "code",
   "execution_count": 142,
   "metadata": {},
   "outputs": [
    {
     "data": {
      "text/plain": [
       "[<matplotlib.lines.Line2D at 0x11d055c18>]"
      ]
     },
     "execution_count": 142,
     "metadata": {},
     "output_type": "execute_result"
    },
    {
     "data": {
      "image/png": "[encoded data removed]",
      "text/plain": [
       "<matplotlib.figure.Figure at 0x11ccb2e10>"
      ]
     },
     "metadata": {},
     "output_type": "display_data"
    }
   ],
   "source": [
    "X_time = sleepdata['time in bed']\n",
    "Y_quality = sleepdata['sleep quality']\n",
    "\n",
    "plt.plot(X_time, Y_quality, 'o', label='original data')"
   ]
  },
  {
   "cell_type": "code",
   "execution_count": 144,
   "metadata": {},
   "outputs": [
    {
     "name": "stdout",
     "output_type": "stream",
     "text": [
      "beta_1: 0.100\n",
      "beta_0: 0.035\n",
      "r^2: 0.821\n"
     ]
    }
   ],
   "source": [
    "ols.fit(X_time.values.reshape(-1,1), Y_quality)\n",
    "print(\"beta_1: %.3f\" %ols.coef_)\n",
    "print(\"beta_0: %.3f\" %ols.intercept_)\n",
    "print('r^2: %.3f' %ols.score(X_time.values.reshape(-1,1), Y_quality))"
   ]
  },
  {
   "cell_type": "code",
   "execution_count": 150,
   "metadata": {},
   "outputs": [
    {
     "data": {
      "text/plain": [
       "<matplotlib.legend.Legend at 0x11b856e10>"
      ]
     },
     "execution_count": 150,
     "metadata": {},
     "output_type": "execute_result"
    },
    {
     "data": {
      "image/png": "[encoded data removed]",
      "text/plain": [
       "<matplotlib.figure.Figure at 0x11c894780>"
      ]
     },
     "metadata": {},
     "output_type": "display_data"
    }
   ],
   "source": [
    "beta_0 = 0.035\n",
    "beta_1 = 0.100\n",
    "\n",
    "#plt.plot(X_time, beta_0 + beta_1*X_time, c='b', lw=1.5, label='')\n",
    "plt.plot(X_time, ols.predict(X_time.values.reshape(-1,1)), c='r', lw=1.5, label='Predicted relation')\n",
    "plt.scatter(X_time, Y_quality, color='green')\n",
    "plt.xlabel('time in bed')\n",
    "plt.ylabel('sleep quality')\n",
    "plt.legend(loc=2)"
   ]
  },
  {
   "cell_type": "code",
   "execution_count": null,
   "metadata": {},
   "outputs": [],
   "source": []
  }
 ],
 "metadata": {
  "kernelspec": {
   "display_name": "Python [conda root]",
   "language": "python",
   "name": "conda-root-py"
  },
  "language_info": {
   "codemirror_mode": {
    "name": "ipython",
    "version": 3
   },
   "file_extension": ".py",
   "mimetype": "text/x-python",
   "name": "python",
   "nbconvert_exporter": "python",
   "pygments_lexer": "ipython3",
   "version": "3.5.4"
  }
 },
 "nbformat": 4,
 "nbformat_minor": 2
}
